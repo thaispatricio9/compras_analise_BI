{
  "nbformat": 4,
  "nbformat_minor": 0,
  "metadata": {
    "colab": {
      "name": "02_json_to_dataframe",
      "provenance": [],
      "authorship_tag": "ABX9TyMOSlhuILufKNXVztAmd8UH",
      "include_colab_link": true
    },
    "kernelspec": {
      "name": "python3",
      "display_name": "Python 3"
    },
    "language_info": {
      "name": "python"
    }
  },
  "cells": [
    {
      "cell_type": "markdown",
      "metadata": {
        "id": "view-in-github",
        "colab_type": "text"
      },
      "source": [
        "<a href=\"https://colab.research.google.com/github/thaispatricio9/compras_analise_BI/blob/main/02_json_to_dataframe.ipynb\" target=\"_parent\"><img src=\"https://colab.research.google.com/assets/colab-badge.svg\" alt=\"Open In Colab\"/></a>"
      ]
    },
    {
      "cell_type": "code",
      "metadata": {
        "id": "m73NeQn6CEtl"
      },
      "source": [
        "import pandas as pd\n",
        "import json"
      ],
      "execution_count": 1,
      "outputs": []
    },
    {
      "cell_type": "markdown",
      "metadata": {
        "id": "HBYu4YtAEkIx"
      },
      "source": [
        "## Transformar o JSON em Dataframe"
      ]
    },
    {
      "cell_type": "code",
      "metadata": {
        "id": "v-lw5TLCB8IO"
      },
      "source": [
        "url = 'https://raw.githubusercontent.com/thaispatricio9/compras_analise_BI/main/data.json'"
      ],
      "execution_count": 44,
      "outputs": []
    },
    {
      "cell_type": "code",
      "metadata": {
        "id": "22PdwG7rCH5J"
      },
      "source": [
        "df = pd.read_json(url)"
      ],
      "execution_count": 45,
      "outputs": []
    },
    {
      "cell_type": "code",
      "metadata": {
        "colab": {
          "base_uri": "https://localhost:8080/",
          "height": 143
        },
        "id": "U-dyWBxnIomj",
        "outputId": "f21a59ab-35bb-42b2-b106-61fdcf76b296"
      },
      "source": [
        "df"
      ],
      "execution_count": 46,
      "outputs": [
        {
          "output_type": "execute_result",
          "data": {
            "text/html": [
              "<div>\n",
              "<style scoped>\n",
              "    .dataframe tbody tr th:only-of-type {\n",
              "        vertical-align: middle;\n",
              "    }\n",
              "\n",
              "    .dataframe tbody tr th {\n",
              "        vertical-align: top;\n",
              "    }\n",
              "\n",
              "    .dataframe thead th {\n",
              "        text-align: right;\n",
              "    }\n",
              "</style>\n",
              "<table border=\"1\" class=\"dataframe\">\n",
              "  <thead>\n",
              "    <tr style=\"text-align: right;\">\n",
              "      <th></th>\n",
              "      <th>CreateDate</th>\n",
              "      <th>EmissionDate</th>\n",
              "      <th>Discount</th>\n",
              "      <th>NFeNumber</th>\n",
              "      <th>NFeID</th>\n",
              "      <th>ItemList</th>\n",
              "    </tr>\n",
              "  </thead>\n",
              "  <tbody>\n",
              "    <tr>\n",
              "      <th>0</th>\n",
              "      <td>2021-05-24T20:21:34.79</td>\n",
              "      <td>2021-05-24T00:00:00</td>\n",
              "      <td>0</td>\n",
              "      <td>501</td>\n",
              "      <td>1</td>\n",
              "      <td>[{'ProductName': 'Rice', 'Value': 35.55, 'Quan...</td>\n",
              "    </tr>\n",
              "    <tr>\n",
              "      <th>1</th>\n",
              "      <td>2021-05-24T20:21:34.79</td>\n",
              "      <td>2021-05-24T00:00:00</td>\n",
              "      <td>0</td>\n",
              "      <td>502</td>\n",
              "      <td>2</td>\n",
              "      <td>[{'ProductName': 'Tomate', 'Value': 12.25, 'Qu...</td>\n",
              "    </tr>\n",
              "    <tr>\n",
              "      <th>2</th>\n",
              "      <td>2021-05-24T20:21:34.79</td>\n",
              "      <td>2021-05-24T00:00:00</td>\n",
              "      <td>0</td>\n",
              "      <td>503</td>\n",
              "      <td>3</td>\n",
              "      <td>[{'ProductName': 'Beer', 'Value': 9.0, 'Quanti...</td>\n",
              "    </tr>\n",
              "  </tbody>\n",
              "</table>\n",
              "</div>"
            ],
            "text/plain": [
              "               CreateDate  ...                                           ItemList\n",
              "0  2021-05-24T20:21:34.79  ...  [{'ProductName': 'Rice', 'Value': 35.55, 'Quan...\n",
              "1  2021-05-24T20:21:34.79  ...  [{'ProductName': 'Tomate', 'Value': 12.25, 'Qu...\n",
              "2  2021-05-24T20:21:34.79  ...  [{'ProductName': 'Beer', 'Value': 9.0, 'Quanti...\n",
              "\n",
              "[3 rows x 6 columns]"
            ]
          },
          "metadata": {},
          "execution_count": 46
        }
      ]
    },
    {
      "cell_type": "markdown",
      "metadata": {
        "id": "330lzC7iMYoJ"
      },
      "source": [
        "Verifica-se que a coluna ItemList contêm uma lista com os produtos, valor e quantidade de cada nota fiscal. Seguindo o modelo relacional irei criar a tabela fato contendo a data de criação, emissão, desconto e nota_fiscal e a tabela dimensão com o detalhamento do produto de cada nota fiscal"
      ]
    },
    {
      "cell_type": "code",
      "metadata": {
        "id": "pLXJ3qPrC_zU"
      },
      "source": [
        "df_list = (pd.concat({k: pd.DataFrame(v) for k, v in df.pop('ItemList').items()}).reset_index(level=1, drop=True))\n",
        "\n",
        "dataset = df.join(df_list, rsuffix='_').reset_index(drop=True)"
      ],
      "execution_count": 47,
      "outputs": []
    },
    {
      "cell_type": "code",
      "metadata": {
        "colab": {
          "base_uri": "https://localhost:8080/",
          "height": 300
        },
        "id": "vw816ZSSDjwV",
        "outputId": "c920077f-87d4-42b9-a0a9-2891c608f7c4"
      },
      "source": [
        "dataset"
      ],
      "execution_count": 48,
      "outputs": [
        {
          "output_type": "execute_result",
          "data": {
            "text/html": [
              "<div>\n",
              "<style scoped>\n",
              "    .dataframe tbody tr th:only-of-type {\n",
              "        vertical-align: middle;\n",
              "    }\n",
              "\n",
              "    .dataframe tbody tr th {\n",
              "        vertical-align: top;\n",
              "    }\n",
              "\n",
              "    .dataframe thead th {\n",
              "        text-align: right;\n",
              "    }\n",
              "</style>\n",
              "<table border=\"1\" class=\"dataframe\">\n",
              "  <thead>\n",
              "    <tr style=\"text-align: right;\">\n",
              "      <th></th>\n",
              "      <th>CreateDate</th>\n",
              "      <th>EmissionDate</th>\n",
              "      <th>Discount</th>\n",
              "      <th>NFeNumber</th>\n",
              "      <th>NFeID</th>\n",
              "      <th>ProductName</th>\n",
              "      <th>Value</th>\n",
              "      <th>Quantity</th>\n",
              "    </tr>\n",
              "  </thead>\n",
              "  <tbody>\n",
              "    <tr>\n",
              "      <th>0</th>\n",
              "      <td>2021-05-24T20:21:34.79</td>\n",
              "      <td>2021-05-24T00:00:00</td>\n",
              "      <td>0</td>\n",
              "      <td>501</td>\n",
              "      <td>1</td>\n",
              "      <td>Rice</td>\n",
              "      <td>35.55</td>\n",
              "      <td>2</td>\n",
              "    </tr>\n",
              "    <tr>\n",
              "      <th>1</th>\n",
              "      <td>2021-05-24T20:21:34.79</td>\n",
              "      <td>2021-05-24T00:00:00</td>\n",
              "      <td>0</td>\n",
              "      <td>501</td>\n",
              "      <td>1</td>\n",
              "      <td>Flour</td>\n",
              "      <td>11.55</td>\n",
              "      <td>5</td>\n",
              "    </tr>\n",
              "    <tr>\n",
              "      <th>2</th>\n",
              "      <td>2021-05-24T20:21:34.79</td>\n",
              "      <td>2021-05-24T00:00:00</td>\n",
              "      <td>0</td>\n",
              "      <td>501</td>\n",
              "      <td>1</td>\n",
              "      <td>Bean</td>\n",
              "      <td>27.15</td>\n",
              "      <td>7</td>\n",
              "    </tr>\n",
              "    <tr>\n",
              "      <th>3</th>\n",
              "      <td>2021-05-24T20:21:34.79</td>\n",
              "      <td>2021-05-24T00:00:00</td>\n",
              "      <td>0</td>\n",
              "      <td>502</td>\n",
              "      <td>2</td>\n",
              "      <td>Tomate</td>\n",
              "      <td>12.25</td>\n",
              "      <td>10</td>\n",
              "    </tr>\n",
              "    <tr>\n",
              "      <th>4</th>\n",
              "      <td>2021-05-24T20:21:34.79</td>\n",
              "      <td>2021-05-24T00:00:00</td>\n",
              "      <td>0</td>\n",
              "      <td>502</td>\n",
              "      <td>2</td>\n",
              "      <td>Pasta</td>\n",
              "      <td>7.55</td>\n",
              "      <td>5</td>\n",
              "    </tr>\n",
              "    <tr>\n",
              "      <th>5</th>\n",
              "      <td>2021-05-24T20:21:34.79</td>\n",
              "      <td>2021-05-24T00:00:00</td>\n",
              "      <td>0</td>\n",
              "      <td>503</td>\n",
              "      <td>3</td>\n",
              "      <td>Beer</td>\n",
              "      <td>9.00</td>\n",
              "      <td>6</td>\n",
              "    </tr>\n",
              "    <tr>\n",
              "      <th>6</th>\n",
              "      <td>2021-05-24T20:21:34.79</td>\n",
              "      <td>2021-05-24T00:00:00</td>\n",
              "      <td>0</td>\n",
              "      <td>503</td>\n",
              "      <td>3</td>\n",
              "      <td>French fries</td>\n",
              "      <td>10.99</td>\n",
              "      <td>2</td>\n",
              "    </tr>\n",
              "    <tr>\n",
              "      <th>7</th>\n",
              "      <td>2021-05-24T20:21:34.79</td>\n",
              "      <td>2021-05-24T00:00:00</td>\n",
              "      <td>0</td>\n",
              "      <td>503</td>\n",
              "      <td>3</td>\n",
              "      <td>Ice cream</td>\n",
              "      <td>27.15</td>\n",
              "      <td>1</td>\n",
              "    </tr>\n",
              "  </tbody>\n",
              "</table>\n",
              "</div>"
            ],
            "text/plain": [
              "               CreateDate         EmissionDate  ...  Value  Quantity\n",
              "0  2021-05-24T20:21:34.79  2021-05-24T00:00:00  ...  35.55         2\n",
              "1  2021-05-24T20:21:34.79  2021-05-24T00:00:00  ...  11.55         5\n",
              "2  2021-05-24T20:21:34.79  2021-05-24T00:00:00  ...  27.15         7\n",
              "3  2021-05-24T20:21:34.79  2021-05-24T00:00:00  ...  12.25        10\n",
              "4  2021-05-24T20:21:34.79  2021-05-24T00:00:00  ...   7.55         5\n",
              "5  2021-05-24T20:21:34.79  2021-05-24T00:00:00  ...   9.00         6\n",
              "6  2021-05-24T20:21:34.79  2021-05-24T00:00:00  ...  10.99         2\n",
              "7  2021-05-24T20:21:34.79  2021-05-24T00:00:00  ...  27.15         1\n",
              "\n",
              "[8 rows x 8 columns]"
            ]
          },
          "metadata": {},
          "execution_count": 48
        }
      ]
    },
    {
      "cell_type": "code",
      "metadata": {
        "colab": {
          "base_uri": "https://localhost:8080/"
        },
        "id": "-T-RD8mlFbfC",
        "outputId": "dcd2b099-36d0-43ed-9eac-78a4cabce747"
      },
      "source": [
        "dataset.info()"
      ],
      "execution_count": 50,
      "outputs": [
        {
          "output_type": "stream",
          "name": "stdout",
          "text": [
            "<class 'pandas.core.frame.DataFrame'>\n",
            "RangeIndex: 8 entries, 0 to 7\n",
            "Data columns (total 8 columns):\n",
            " #   Column        Non-Null Count  Dtype  \n",
            "---  ------        --------------  -----  \n",
            " 0   CreateDate    8 non-null      object \n",
            " 1   EmissionDate  8 non-null      object \n",
            " 2   Discount      8 non-null      int64  \n",
            " 3   NFeNumber     8 non-null      int64  \n",
            " 4   NFeID         8 non-null      int64  \n",
            " 5   ProductName   8 non-null      object \n",
            " 6   Value         8 non-null      float64\n",
            " 7   Quantity      8 non-null      int64  \n",
            "dtypes: float64(1), int64(4), object(3)\n",
            "memory usage: 640.0+ bytes\n"
          ]
        }
      ]
    },
    {
      "cell_type": "markdown",
      "metadata": {
        "id": "xU0_Eu8LEsSP"
      },
      "source": [
        "## Modelo Relacional"
      ]
    },
    {
      "cell_type": "markdown",
      "metadata": {
        "id": "I6z7RMRKLIxT"
      },
      "source": [
        "Tabela Dimensão da Nota Fiscal contendo os produtos, valores e quantidade referentes a cada NFeID"
      ]
    },
    {
      "cell_type": "code",
      "metadata": {
        "id": "xG7ALW1HKyM9"
      },
      "source": [
        "dim_nota_fiscal  = df[['NFeID']].join(df_list, rsuffix='_').reset_index(drop=True)"
      ],
      "execution_count": 51,
      "outputs": []
    },
    {
      "cell_type": "code",
      "metadata": {
        "colab": {
          "base_uri": "https://localhost:8080/",
          "height": 300
        },
        "id": "XSFdyqgXK90P",
        "outputId": "b2cb9afc-7ac8-4127-9882-f86ea9d78a3c"
      },
      "source": [
        "dim_nota_fiscal"
      ],
      "execution_count": 52,
      "outputs": [
        {
          "output_type": "execute_result",
          "data": {
            "text/html": [
              "<div>\n",
              "<style scoped>\n",
              "    .dataframe tbody tr th:only-of-type {\n",
              "        vertical-align: middle;\n",
              "    }\n",
              "\n",
              "    .dataframe tbody tr th {\n",
              "        vertical-align: top;\n",
              "    }\n",
              "\n",
              "    .dataframe thead th {\n",
              "        text-align: right;\n",
              "    }\n",
              "</style>\n",
              "<table border=\"1\" class=\"dataframe\">\n",
              "  <thead>\n",
              "    <tr style=\"text-align: right;\">\n",
              "      <th></th>\n",
              "      <th>NFeID</th>\n",
              "      <th>ProductName</th>\n",
              "      <th>Value</th>\n",
              "      <th>Quantity</th>\n",
              "    </tr>\n",
              "  </thead>\n",
              "  <tbody>\n",
              "    <tr>\n",
              "      <th>0</th>\n",
              "      <td>1</td>\n",
              "      <td>Rice</td>\n",
              "      <td>35.55</td>\n",
              "      <td>2</td>\n",
              "    </tr>\n",
              "    <tr>\n",
              "      <th>1</th>\n",
              "      <td>1</td>\n",
              "      <td>Flour</td>\n",
              "      <td>11.55</td>\n",
              "      <td>5</td>\n",
              "    </tr>\n",
              "    <tr>\n",
              "      <th>2</th>\n",
              "      <td>1</td>\n",
              "      <td>Bean</td>\n",
              "      <td>27.15</td>\n",
              "      <td>7</td>\n",
              "    </tr>\n",
              "    <tr>\n",
              "      <th>3</th>\n",
              "      <td>2</td>\n",
              "      <td>Tomate</td>\n",
              "      <td>12.25</td>\n",
              "      <td>10</td>\n",
              "    </tr>\n",
              "    <tr>\n",
              "      <th>4</th>\n",
              "      <td>2</td>\n",
              "      <td>Pasta</td>\n",
              "      <td>7.55</td>\n",
              "      <td>5</td>\n",
              "    </tr>\n",
              "    <tr>\n",
              "      <th>5</th>\n",
              "      <td>3</td>\n",
              "      <td>Beer</td>\n",
              "      <td>9.00</td>\n",
              "      <td>6</td>\n",
              "    </tr>\n",
              "    <tr>\n",
              "      <th>6</th>\n",
              "      <td>3</td>\n",
              "      <td>French fries</td>\n",
              "      <td>10.99</td>\n",
              "      <td>2</td>\n",
              "    </tr>\n",
              "    <tr>\n",
              "      <th>7</th>\n",
              "      <td>3</td>\n",
              "      <td>Ice cream</td>\n",
              "      <td>27.15</td>\n",
              "      <td>1</td>\n",
              "    </tr>\n",
              "  </tbody>\n",
              "</table>\n",
              "</div>"
            ],
            "text/plain": [
              "   NFeID   ProductName  Value  Quantity\n",
              "0      1          Rice  35.55         2\n",
              "1      1         Flour  11.55         5\n",
              "2      1          Bean  27.15         7\n",
              "3      2        Tomate  12.25        10\n",
              "4      2         Pasta   7.55         5\n",
              "5      3          Beer   9.00         6\n",
              "6      3  French fries  10.99         2\n",
              "7      3     Ice cream  27.15         1"
            ]
          },
          "metadata": {},
          "execution_count": 52
        }
      ]
    },
    {
      "cell_type": "markdown",
      "metadata": {
        "id": "mnCv3SdaLEkY"
      },
      "source": [
        "Tabela Fato contendo os pedidos por data"
      ]
    },
    {
      "cell_type": "code",
      "metadata": {
        "id": "soV8IveDE1iO"
      },
      "source": [
        "# Como fiz um drop do ItemList na união das tabelas, a tabela fato é a mesma que o dataframe df\n",
        "fato = df"
      ],
      "execution_count": 56,
      "outputs": []
    },
    {
      "cell_type": "code",
      "metadata": {
        "colab": {
          "base_uri": "https://localhost:8080/",
          "height": 143
        },
        "id": "61zgBNPmN1A5",
        "outputId": "d01cc2cf-5446-40f9-a301-737c833c3a79"
      },
      "source": [
        "fato"
      ],
      "execution_count": 57,
      "outputs": [
        {
          "output_type": "execute_result",
          "data": {
            "text/html": [
              "<div>\n",
              "<style scoped>\n",
              "    .dataframe tbody tr th:only-of-type {\n",
              "        vertical-align: middle;\n",
              "    }\n",
              "\n",
              "    .dataframe tbody tr th {\n",
              "        vertical-align: top;\n",
              "    }\n",
              "\n",
              "    .dataframe thead th {\n",
              "        text-align: right;\n",
              "    }\n",
              "</style>\n",
              "<table border=\"1\" class=\"dataframe\">\n",
              "  <thead>\n",
              "    <tr style=\"text-align: right;\">\n",
              "      <th></th>\n",
              "      <th>CreateDate</th>\n",
              "      <th>EmissionDate</th>\n",
              "      <th>Discount</th>\n",
              "      <th>NFeNumber</th>\n",
              "      <th>NFeID</th>\n",
              "    </tr>\n",
              "  </thead>\n",
              "  <tbody>\n",
              "    <tr>\n",
              "      <th>0</th>\n",
              "      <td>2021-05-24T20:21:34.79</td>\n",
              "      <td>2021-05-24T00:00:00</td>\n",
              "      <td>0</td>\n",
              "      <td>501</td>\n",
              "      <td>1</td>\n",
              "    </tr>\n",
              "    <tr>\n",
              "      <th>1</th>\n",
              "      <td>2021-05-24T20:21:34.79</td>\n",
              "      <td>2021-05-24T00:00:00</td>\n",
              "      <td>0</td>\n",
              "      <td>502</td>\n",
              "      <td>2</td>\n",
              "    </tr>\n",
              "    <tr>\n",
              "      <th>2</th>\n",
              "      <td>2021-05-24T20:21:34.79</td>\n",
              "      <td>2021-05-24T00:00:00</td>\n",
              "      <td>0</td>\n",
              "      <td>503</td>\n",
              "      <td>3</td>\n",
              "    </tr>\n",
              "  </tbody>\n",
              "</table>\n",
              "</div>"
            ],
            "text/plain": [
              "               CreateDate         EmissionDate  Discount  NFeNumber  NFeID\n",
              "0  2021-05-24T20:21:34.79  2021-05-24T00:00:00         0        501      1\n",
              "1  2021-05-24T20:21:34.79  2021-05-24T00:00:00         0        502      2\n",
              "2  2021-05-24T20:21:34.79  2021-05-24T00:00:00         0        503      3"
            ]
          },
          "metadata": {},
          "execution_count": 57
        }
      ]
    },
    {
      "cell_type": "markdown",
      "metadata": {
        "id": "7dARl1dHLYOK"
      },
      "source": [
        "## Salvar arquivos"
      ]
    },
    {
      "cell_type": "code",
      "metadata": {
        "id": "nVnEkkF0LbJA"
      },
      "source": [
        "fato.to_csv('fato.csv')\n",
        "dim_nota_fiscal.to_csv('dim_nfe.csv')"
      ],
      "execution_count": 58,
      "outputs": []
    }
  ]
}