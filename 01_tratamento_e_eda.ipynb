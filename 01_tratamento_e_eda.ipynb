{
  "nbformat": 4,
  "nbformat_minor": 0,
  "metadata": {
    "colab": {
      "name": "01_tratamento_e_eda.ipynb",
      "provenance": [],
      "authorship_tag": "ABX9TyPN/Wz4gaRK3XwNnGV23ThB",
      "include_colab_link": true
    },
    "kernelspec": {
      "name": "python3",
      "display_name": "Python 3"
    },
    "language_info": {
      "name": "python"
    }
  },
  "cells": [
    {
      "cell_type": "markdown",
      "metadata": {
        "id": "view-in-github",
        "colab_type": "text"
      },
      "source": [
        "<a href=\"https://colab.research.google.com/github/thaispatricio9/compras_analise_BI/blob/main/01_tratamento_e_eda.ipynb\" target=\"_parent\"><img src=\"https://colab.research.google.com/assets/colab-badge.svg\" alt=\"Open In Colab\"/></a>"
      ]
    },
    {
      "cell_type": "markdown",
      "metadata": {
        "id": "xebhvbMibHma"
      },
      "source": [
        "# Tratamento e Análise de Dados\n",
        "\n",
        "- Investigar e corrigir (se possível) anomalias nos dados\n",
        "- Análise Exploratória"
      ]
    },
    {
      "cell_type": "markdown",
      "metadata": {
        "id": "ap2F_1lYcd-O"
      },
      "source": [
        "## Importar bibliotecas"
      ]
    },
    {
      "cell_type": "code",
      "metadata": {
        "id": "iDfMUZU_a59_"
      },
      "source": [
        "import pandas as pd\n",
        "import matplotlib.pyplot as plt\n",
        "import seaborn as sns\n",
        "\n",
        "sns.set_style()"
      ],
      "execution_count": null,
      "outputs": []
    },
    {
      "cell_type": "markdown",
      "metadata": {
        "id": "CjEYuaUda8aQ"
      },
      "source": [
        "## Carregar dados"
      ]
    },
    {
      "cell_type": "code",
      "metadata": {
        "colab": {
          "base_uri": "https://localhost:8080/"
        },
        "id": "5jsGojq6bDZp",
        "outputId": "eee01d01-f5e1-487d-a771-038fa80e451c"
      },
      "source": [
        "from google.colab import drive\n",
        "drive.mount('/content/drive')"
      ],
      "execution_count": null,
      "outputs": [
        {
          "output_type": "stream",
          "name": "stdout",
          "text": [
            "Mounted at /content/drive\n"
          ]
        }
      ]
    },
    {
      "cell_type": "code",
      "metadata": {
        "id": "Lc-7x3ajZoEg"
      },
      "source": [
        "dir = '/content/drive/MyDrive/Curriculo/Lambda3'\n",
        "arq = 'sample.xls'"
      ],
      "execution_count": null,
      "outputs": []
    },
    {
      "cell_type": "code",
      "metadata": {
        "id": "tztjG_vya7Ta"
      },
      "source": [
        "df = pd.read_excel(f'{dir}/{arq}')"
      ],
      "execution_count": null,
      "outputs": []
    },
    {
      "cell_type": "markdown",
      "metadata": {
        "id": "x0oc6ZT3e1-d"
      },
      "source": [
        "## Investigar anomalias"
      ]
    },
    {
      "cell_type": "code",
      "metadata": {
        "colab": {
          "base_uri": "https://localhost:8080/",
          "height": 328
        },
        "id": "Sd1PwqHcfFAC",
        "outputId": "442ab5d2-cba0-4d77-ac38-4d1b4c3260c1"
      },
      "source": [
        "df.head()"
      ],
      "execution_count": null,
      "outputs": [
        {
          "output_type": "execute_result",
          "data": {
            "text/html": [
              "<div>\n",
              "<style scoped>\n",
              "    .dataframe tbody tr th:only-of-type {\n",
              "        vertical-align: middle;\n",
              "    }\n",
              "\n",
              "    .dataframe tbody tr th {\n",
              "        vertical-align: top;\n",
              "    }\n",
              "\n",
              "    .dataframe thead th {\n",
              "        text-align: right;\n",
              "    }\n",
              "</style>\n",
              "<table border=\"1\" class=\"dataframe\">\n",
              "  <thead>\n",
              "    <tr style=\"text-align: right;\">\n",
              "      <th></th>\n",
              "      <th>Row ID</th>\n",
              "      <th>Order ID</th>\n",
              "      <th>Order Date</th>\n",
              "      <th>Ship Date</th>\n",
              "      <th>Ship Mode</th>\n",
              "      <th>Customer ID</th>\n",
              "      <th>Customer Name</th>\n",
              "      <th>Segment</th>\n",
              "      <th>Country</th>\n",
              "      <th>City</th>\n",
              "      <th>State</th>\n",
              "      <th>Postal Code</th>\n",
              "      <th>Region</th>\n",
              "      <th>Product ID</th>\n",
              "      <th>Category</th>\n",
              "      <th>Sub-Category</th>\n",
              "      <th>Product Name</th>\n",
              "      <th>Sales</th>\n",
              "      <th>Quantity</th>\n",
              "      <th>Discount</th>\n",
              "      <th>Profit</th>\n",
              "    </tr>\n",
              "  </thead>\n",
              "  <tbody>\n",
              "    <tr>\n",
              "      <th>0</th>\n",
              "      <td>1</td>\n",
              "      <td>CA-2016-152156</td>\n",
              "      <td>2016-11-08</td>\n",
              "      <td>2016-11-11</td>\n",
              "      <td>Second Class</td>\n",
              "      <td>CG-12520</td>\n",
              "      <td>Claire Gute</td>\n",
              "      <td>Consumer</td>\n",
              "      <td>United States</td>\n",
              "      <td>Henderson</td>\n",
              "      <td>Kentucky</td>\n",
              "      <td>42420</td>\n",
              "      <td>South</td>\n",
              "      <td>FUR-BO-10001798</td>\n",
              "      <td>Furniture</td>\n",
              "      <td>Bookcases</td>\n",
              "      <td>Bush Somerset Collection Bookcase</td>\n",
              "      <td>261.9600</td>\n",
              "      <td>2</td>\n",
              "      <td>0.00</td>\n",
              "      <td>41.9136</td>\n",
              "    </tr>\n",
              "    <tr>\n",
              "      <th>1</th>\n",
              "      <td>2</td>\n",
              "      <td>CA-2016-152156</td>\n",
              "      <td>2016-11-08</td>\n",
              "      <td>2016-11-11</td>\n",
              "      <td>Second Class</td>\n",
              "      <td>CG-12520</td>\n",
              "      <td>Claire Gute</td>\n",
              "      <td>Consumer</td>\n",
              "      <td>United States</td>\n",
              "      <td>Henderson</td>\n",
              "      <td>Kentucky</td>\n",
              "      <td>42420</td>\n",
              "      <td>South</td>\n",
              "      <td>FUR-CH-10000454</td>\n",
              "      <td>Furniture</td>\n",
              "      <td>Chairs</td>\n",
              "      <td>Hon Deluxe Fabric Upholstered Stacking Chairs,...</td>\n",
              "      <td>731.9400</td>\n",
              "      <td>3</td>\n",
              "      <td>0.00</td>\n",
              "      <td>219.5820</td>\n",
              "    </tr>\n",
              "    <tr>\n",
              "      <th>2</th>\n",
              "      <td>3</td>\n",
              "      <td>CA-2016-138688</td>\n",
              "      <td>2016-06-12</td>\n",
              "      <td>2016-06-16</td>\n",
              "      <td>Second Class</td>\n",
              "      <td>DV-13045</td>\n",
              "      <td>Darrin Van Huff</td>\n",
              "      <td>Corporate</td>\n",
              "      <td>United States</td>\n",
              "      <td>Los Angeles</td>\n",
              "      <td>California</td>\n",
              "      <td>90036</td>\n",
              "      <td>West</td>\n",
              "      <td>OFF-LA-10000240</td>\n",
              "      <td>Office Supplies</td>\n",
              "      <td>Labels</td>\n",
              "      <td>Self-Adhesive Address Labels for Typewriters b...</td>\n",
              "      <td>14.6200</td>\n",
              "      <td>2</td>\n",
              "      <td>0.00</td>\n",
              "      <td>6.8714</td>\n",
              "    </tr>\n",
              "    <tr>\n",
              "      <th>3</th>\n",
              "      <td>4</td>\n",
              "      <td>US-2015-108966</td>\n",
              "      <td>2015-10-11</td>\n",
              "      <td>2015-10-18</td>\n",
              "      <td>Standard Class</td>\n",
              "      <td>SO-20335</td>\n",
              "      <td>Sean O'Donnell</td>\n",
              "      <td>Consumer</td>\n",
              "      <td>United States</td>\n",
              "      <td>Fort Lauderdale</td>\n",
              "      <td>Florida</td>\n",
              "      <td>33311</td>\n",
              "      <td>South</td>\n",
              "      <td>FUR-TA-10000577</td>\n",
              "      <td>Furniture</td>\n",
              "      <td>Tables</td>\n",
              "      <td>Bretford CR4500 Series Slim Rectangular Table</td>\n",
              "      <td>957.5775</td>\n",
              "      <td>5</td>\n",
              "      <td>0.45</td>\n",
              "      <td>-383.0310</td>\n",
              "    </tr>\n",
              "    <tr>\n",
              "      <th>4</th>\n",
              "      <td>5</td>\n",
              "      <td>US-2015-108966</td>\n",
              "      <td>2015-10-11</td>\n",
              "      <td>2015-10-18</td>\n",
              "      <td>Standard Class</td>\n",
              "      <td>SO-20335</td>\n",
              "      <td>Sean O'Donnell</td>\n",
              "      <td>Consumer</td>\n",
              "      <td>United States</td>\n",
              "      <td>Fort Lauderdale</td>\n",
              "      <td>Florida</td>\n",
              "      <td>33311</td>\n",
              "      <td>South</td>\n",
              "      <td>OFF-ST-10000760</td>\n",
              "      <td>Office Supplies</td>\n",
              "      <td>Storage</td>\n",
              "      <td>Eldon Fold 'N Roll Cart System</td>\n",
              "      <td>22.3680</td>\n",
              "      <td>2</td>\n",
              "      <td>0.20</td>\n",
              "      <td>2.5164</td>\n",
              "    </tr>\n",
              "  </tbody>\n",
              "</table>\n",
              "</div>"
            ],
            "text/plain": [
              "   Row ID        Order ID Order Date  ... Quantity Discount    Profit\n",
              "0       1  CA-2016-152156 2016-11-08  ...        2     0.00   41.9136\n",
              "1       2  CA-2016-152156 2016-11-08  ...        3     0.00  219.5820\n",
              "2       3  CA-2016-138688 2016-06-12  ...        2     0.00    6.8714\n",
              "3       4  US-2015-108966 2015-10-11  ...        5     0.45 -383.0310\n",
              "4       5  US-2015-108966 2015-10-11  ...        2     0.20    2.5164\n",
              "\n",
              "[5 rows x 21 columns]"
            ]
          },
          "metadata": {},
          "execution_count": 5
        }
      ]
    },
    {
      "cell_type": "code",
      "metadata": {
        "id": "jhl3eA47gXSW"
      },
      "source": [
        "df.set_index('Row ID', inplace=True)"
      ],
      "execution_count": null,
      "outputs": []
    },
    {
      "cell_type": "markdown",
      "metadata": {
        "id": "xFHSziF_fHsD"
      },
      "source": [
        "**Verificar nulos, tipos e duplicados**\n",
        "- Não há valores nulos\n",
        "- Todos os tipos das colunas fazem sentido, variáveis de data e númericas já estão formatadas corretamente.\n",
        "- Há um pedido duplicado\n"
      ]
    },
    {
      "cell_type": "code",
      "metadata": {
        "colab": {
          "base_uri": "https://localhost:8080/"
        },
        "id": "Fp-XFKu1e5wO",
        "outputId": "1bc86fff-3424-4861-8a15-95fe21088873"
      },
      "source": [
        "df.info()"
      ],
      "execution_count": null,
      "outputs": [
        {
          "output_type": "stream",
          "name": "stdout",
          "text": [
            "<class 'pandas.core.frame.DataFrame'>\n",
            "Int64Index: 9994 entries, 1 to 9994\n",
            "Data columns (total 20 columns):\n",
            " #   Column         Non-Null Count  Dtype         \n",
            "---  ------         --------------  -----         \n",
            " 0   Order ID       9994 non-null   object        \n",
            " 1   Order Date     9994 non-null   datetime64[ns]\n",
            " 2   Ship Date      9994 non-null   datetime64[ns]\n",
            " 3   Ship Mode      9994 non-null   object        \n",
            " 4   Customer ID    9994 non-null   object        \n",
            " 5   Customer Name  9994 non-null   object        \n",
            " 6   Segment        9994 non-null   object        \n",
            " 7   Country        9994 non-null   object        \n",
            " 8   City           9994 non-null   object        \n",
            " 9   State          9994 non-null   object        \n",
            " 10  Postal Code    9994 non-null   int64         \n",
            " 11  Region         9994 non-null   object        \n",
            " 12  Product ID     9994 non-null   object        \n",
            " 13  Category       9994 non-null   object        \n",
            " 14  Sub-Category   9994 non-null   object        \n",
            " 15  Product Name   9994 non-null   object        \n",
            " 16  Sales          9994 non-null   float64       \n",
            " 17  Quantity       9994 non-null   int64         \n",
            " 18  Discount       9994 non-null   float64       \n",
            " 19  Profit         9994 non-null   float64       \n",
            "dtypes: datetime64[ns](2), float64(3), int64(2), object(13)\n",
            "memory usage: 1.6+ MB\n"
          ]
        }
      ]
    },
    {
      "cell_type": "code",
      "metadata": {
        "colab": {
          "base_uri": "https://localhost:8080/",
          "height": 164
        },
        "id": "eWkj4TdigDQp",
        "outputId": "5fe9d006-e9df-4864-e066-d09feda1fc72"
      },
      "source": [
        "df[df.duplicated()==True]"
      ],
      "execution_count": null,
      "outputs": [
        {
          "output_type": "execute_result",
          "data": {
            "text/html": [
              "<div>\n",
              "<style scoped>\n",
              "    .dataframe tbody tr th:only-of-type {\n",
              "        vertical-align: middle;\n",
              "    }\n",
              "\n",
              "    .dataframe tbody tr th {\n",
              "        vertical-align: top;\n",
              "    }\n",
              "\n",
              "    .dataframe thead th {\n",
              "        text-align: right;\n",
              "    }\n",
              "</style>\n",
              "<table border=\"1\" class=\"dataframe\">\n",
              "  <thead>\n",
              "    <tr style=\"text-align: right;\">\n",
              "      <th></th>\n",
              "      <th>Order ID</th>\n",
              "      <th>Order Date</th>\n",
              "      <th>Ship Date</th>\n",
              "      <th>Ship Mode</th>\n",
              "      <th>Customer ID</th>\n",
              "      <th>Customer Name</th>\n",
              "      <th>Segment</th>\n",
              "      <th>Country</th>\n",
              "      <th>City</th>\n",
              "      <th>State</th>\n",
              "      <th>Postal Code</th>\n",
              "      <th>Region</th>\n",
              "      <th>Product ID</th>\n",
              "      <th>Category</th>\n",
              "      <th>Sub-Category</th>\n",
              "      <th>Product Name</th>\n",
              "      <th>Sales</th>\n",
              "      <th>Quantity</th>\n",
              "      <th>Discount</th>\n",
              "      <th>Profit</th>\n",
              "    </tr>\n",
              "    <tr>\n",
              "      <th>Row ID</th>\n",
              "      <th></th>\n",
              "      <th></th>\n",
              "      <th></th>\n",
              "      <th></th>\n",
              "      <th></th>\n",
              "      <th></th>\n",
              "      <th></th>\n",
              "      <th></th>\n",
              "      <th></th>\n",
              "      <th></th>\n",
              "      <th></th>\n",
              "      <th></th>\n",
              "      <th></th>\n",
              "      <th></th>\n",
              "      <th></th>\n",
              "      <th></th>\n",
              "      <th></th>\n",
              "      <th></th>\n",
              "      <th></th>\n",
              "      <th></th>\n",
              "    </tr>\n",
              "  </thead>\n",
              "  <tbody>\n",
              "    <tr>\n",
              "      <th>3407</th>\n",
              "      <td>US-2014-150119</td>\n",
              "      <td>2014-04-23</td>\n",
              "      <td>2014-04-27</td>\n",
              "      <td>Standard Class</td>\n",
              "      <td>LB-16795</td>\n",
              "      <td>Laurel Beltran</td>\n",
              "      <td>Home Office</td>\n",
              "      <td>United States</td>\n",
              "      <td>Columbus</td>\n",
              "      <td>Ohio</td>\n",
              "      <td>43229</td>\n",
              "      <td>East</td>\n",
              "      <td>FUR-CH-10002965</td>\n",
              "      <td>Furniture</td>\n",
              "      <td>Chairs</td>\n",
              "      <td>Global Leather Highback Executive Chair with P...</td>\n",
              "      <td>281.372</td>\n",
              "      <td>2</td>\n",
              "      <td>0.3</td>\n",
              "      <td>-12.0588</td>\n",
              "    </tr>\n",
              "  </tbody>\n",
              "</table>\n",
              "</div>"
            ],
            "text/plain": [
              "              Order ID Order Date  Ship Date  ... Quantity Discount   Profit\n",
              "Row ID                                        ...                           \n",
              "3407    US-2014-150119 2014-04-23 2014-04-27  ...        2      0.3 -12.0588\n",
              "\n",
              "[1 rows x 20 columns]"
            ]
          },
          "metadata": {},
          "execution_count": 8
        }
      ]
    },
    {
      "cell_type": "code",
      "metadata": {
        "id": "QTOzgBmthWuC"
      },
      "source": [
        "df = df[df.duplicated()==False]"
      ],
      "execution_count": null,
      "outputs": []
    },
    {
      "cell_type": "code",
      "metadata": {
        "colab": {
          "base_uri": "https://localhost:8080/"
        },
        "id": "y9e3KJApiIdB",
        "outputId": "fa9701d3-0795-42cb-c66e-e11cfcb2dbbb"
      },
      "source": [
        "df.nunique()"
      ],
      "execution_count": null,
      "outputs": [
        {
          "output_type": "execute_result",
          "data": {
            "text/plain": [
              "Order ID         5009\n",
              "Order Date       1237\n",
              "Ship Date        1334\n",
              "Ship Mode           4\n",
              "Customer ID       793\n",
              "Customer Name     793\n",
              "Segment             3\n",
              "Country             1\n",
              "City              531\n",
              "State              49\n",
              "Postal Code       631\n",
              "Region              4\n",
              "Product ID       1862\n",
              "Category            3\n",
              "Sub-Category       17\n",
              "Product Name     1850\n",
              "Sales            6144\n",
              "Quantity           14\n",
              "Discount           12\n",
              "Profit           7545\n",
              "dtype: int64"
            ]
          },
          "metadata": {},
          "execution_count": 10
        }
      ]
    },
    {
      "cell_type": "markdown",
      "metadata": {
        "id": "0hKxJaEijq4-"
      },
      "source": [
        "**Verificar Datas**"
      ]
    },
    {
      "cell_type": "code",
      "metadata": {
        "colab": {
          "base_uri": "https://localhost:8080/"
        },
        "id": "Ijo9xNh0jswJ",
        "outputId": "c593f06d-6f17-4348-8534-861d0a08a50f"
      },
      "source": [
        "min(df['Order Date']), max(df['Order Date'])"
      ],
      "execution_count": null,
      "outputs": [
        {
          "output_type": "execute_result",
          "data": {
            "text/plain": [
              "(Timestamp('2014-01-03 00:00:00'), Timestamp('2017-12-30 00:00:00'))"
            ]
          },
          "metadata": {},
          "execution_count": 11
        }
      ]
    },
    {
      "cell_type": "code",
      "metadata": {
        "colab": {
          "base_uri": "https://localhost:8080/"
        },
        "id": "iyOqOaL6jzTG",
        "outputId": "8aff1f7e-8841-4aed-de8e-3300f02f3811"
      },
      "source": [
        "min(df['Ship Date']), max(df['Ship Date'])"
      ],
      "execution_count": null,
      "outputs": [
        {
          "output_type": "execute_result",
          "data": {
            "text/plain": [
              "(Timestamp('2014-01-07 00:00:00'), Timestamp('2018-01-05 00:00:00'))"
            ]
          },
          "metadata": {},
          "execution_count": 12
        }
      ]
    },
    {
      "cell_type": "markdown",
      "metadata": {
        "id": "c0v7aXag-sJt"
      },
      "source": [
        "O Range de datas parece correto, sem datas absurdas como 2050 ou 1900"
      ]
    },
    {
      "cell_type": "code",
      "metadata": {
        "id": "xx0mRqiJ7jws"
      },
      "source": [
        "df['Delivery Time'] = (df['Ship Date'] - df['Order Date']).dt.days"
      ],
      "execution_count": null,
      "outputs": []
    },
    {
      "cell_type": "code",
      "metadata": {
        "colab": {
          "base_uri": "https://localhost:8080/",
          "height": 238
        },
        "id": "W-Y5AVzO8gMG",
        "outputId": "6f663052-c994-47c0-f95f-752a83fb55c5"
      },
      "source": [
        "df.groupby(['Ship Mode']).agg({'Delivery Time': ['mean','max','min']})"
      ],
      "execution_count": null,
      "outputs": [
        {
          "output_type": "execute_result",
          "data": {
            "text/html": [
              "<div>\n",
              "<style scoped>\n",
              "    .dataframe tbody tr th:only-of-type {\n",
              "        vertical-align: middle;\n",
              "    }\n",
              "\n",
              "    .dataframe tbody tr th {\n",
              "        vertical-align: top;\n",
              "    }\n",
              "\n",
              "    .dataframe thead tr th {\n",
              "        text-align: left;\n",
              "    }\n",
              "\n",
              "    .dataframe thead tr:last-of-type th {\n",
              "        text-align: right;\n",
              "    }\n",
              "</style>\n",
              "<table border=\"1\" class=\"dataframe\">\n",
              "  <thead>\n",
              "    <tr>\n",
              "      <th></th>\n",
              "      <th colspan=\"3\" halign=\"left\">Delivery Time</th>\n",
              "    </tr>\n",
              "    <tr>\n",
              "      <th></th>\n",
              "      <th>mean</th>\n",
              "      <th>max</th>\n",
              "      <th>min</th>\n",
              "    </tr>\n",
              "    <tr>\n",
              "      <th>Ship Mode</th>\n",
              "      <th></th>\n",
              "      <th></th>\n",
              "      <th></th>\n",
              "    </tr>\n",
              "  </thead>\n",
              "  <tbody>\n",
              "    <tr>\n",
              "      <th>First Class</th>\n",
              "      <td>2.182705</td>\n",
              "      <td>4</td>\n",
              "      <td>1</td>\n",
              "    </tr>\n",
              "    <tr>\n",
              "      <th>Same Day</th>\n",
              "      <td>0.044199</td>\n",
              "      <td>1</td>\n",
              "      <td>0</td>\n",
              "    </tr>\n",
              "    <tr>\n",
              "      <th>Second Class</th>\n",
              "      <td>3.238046</td>\n",
              "      <td>5</td>\n",
              "      <td>1</td>\n",
              "    </tr>\n",
              "    <tr>\n",
              "      <th>Standard Class</th>\n",
              "      <td>5.006704</td>\n",
              "      <td>7</td>\n",
              "      <td>3</td>\n",
              "    </tr>\n",
              "  </tbody>\n",
              "</table>\n",
              "</div>"
            ],
            "text/plain": [
              "               Delivery Time        \n",
              "                        mean max min\n",
              "Ship Mode                           \n",
              "First Class         2.182705   4   1\n",
              "Same Day            0.044199   1   0\n",
              "Second Class        3.238046   5   1\n",
              "Standard Class      5.006704   7   3"
            ]
          },
          "metadata": {},
          "execution_count": 14
        }
      ]
    },
    {
      "cell_type": "markdown",
      "metadata": {
        "id": "L0eBn_jG99I0"
      },
      "source": [
        "O tempo de entrega é aderente ao tipo de entrega contratado. Em uma análise mais apronfundae eu compararia o tempo de entrega prometido ao cliente em cada um dos tipos e analisaria a evolução do tempo de entrega no tempo e por estado para verificar possíveis gargalos."
      ]
    },
    {
      "cell_type": "markdown",
      "metadata": {
        "id": "LfyGjSq5kzdG"
      },
      "source": [
        "**Veriricar outras variáveis**"
      ]
    },
    {
      "cell_type": "code",
      "metadata": {
        "colab": {
          "base_uri": "https://localhost:8080/"
        },
        "id": "PZbQmxU_mjXf",
        "outputId": "2fb4f43b-54cd-41ac-e323-6c3c58f356af"
      },
      "source": [
        "# Apenas os EUA, como esperado\n",
        "df['Country'].unique()"
      ],
      "execution_count": null,
      "outputs": [
        {
          "output_type": "execute_result",
          "data": {
            "text/plain": [
              "array(['United States'], dtype=object)"
            ]
          },
          "metadata": {},
          "execution_count": 15
        }
      ]
    },
    {
      "cell_type": "code",
      "metadata": {
        "colab": {
          "base_uri": "https://localhost:8080/",
          "height": 1000
        },
        "id": "pvnlYOsFkjSq",
        "outputId": "e3c64195-44f2-47d1-a22c-9df4c4586c99"
      },
      "source": [
        "df.groupby(['State'])['Order ID'].size().to_frame()"
      ],
      "execution_count": null,
      "outputs": [
        {
          "output_type": "execute_result",
          "data": {
            "text/html": [
              "<div>\n",
              "<style scoped>\n",
              "    .dataframe tbody tr th:only-of-type {\n",
              "        vertical-align: middle;\n",
              "    }\n",
              "\n",
              "    .dataframe tbody tr th {\n",
              "        vertical-align: top;\n",
              "    }\n",
              "\n",
              "    .dataframe thead th {\n",
              "        text-align: right;\n",
              "    }\n",
              "</style>\n",
              "<table border=\"1\" class=\"dataframe\">\n",
              "  <thead>\n",
              "    <tr style=\"text-align: right;\">\n",
              "      <th></th>\n",
              "      <th>Order ID</th>\n",
              "    </tr>\n",
              "    <tr>\n",
              "      <th>State</th>\n",
              "      <th></th>\n",
              "    </tr>\n",
              "  </thead>\n",
              "  <tbody>\n",
              "    <tr>\n",
              "      <th>Alabama</th>\n",
              "      <td>61</td>\n",
              "    </tr>\n",
              "    <tr>\n",
              "      <th>Arizona</th>\n",
              "      <td>224</td>\n",
              "    </tr>\n",
              "    <tr>\n",
              "      <th>Arkansas</th>\n",
              "      <td>60</td>\n",
              "    </tr>\n",
              "    <tr>\n",
              "      <th>California</th>\n",
              "      <td>2001</td>\n",
              "    </tr>\n",
              "    <tr>\n",
              "      <th>Colorado</th>\n",
              "      <td>182</td>\n",
              "    </tr>\n",
              "    <tr>\n",
              "      <th>Connecticut</th>\n",
              "      <td>82</td>\n",
              "    </tr>\n",
              "    <tr>\n",
              "      <th>Delaware</th>\n",
              "      <td>96</td>\n",
              "    </tr>\n",
              "    <tr>\n",
              "      <th>District of Columbia</th>\n",
              "      <td>10</td>\n",
              "    </tr>\n",
              "    <tr>\n",
              "      <th>Florida</th>\n",
              "      <td>383</td>\n",
              "    </tr>\n",
              "    <tr>\n",
              "      <th>Georgia</th>\n",
              "      <td>184</td>\n",
              "    </tr>\n",
              "    <tr>\n",
              "      <th>Idaho</th>\n",
              "      <td>21</td>\n",
              "    </tr>\n",
              "    <tr>\n",
              "      <th>Illinois</th>\n",
              "      <td>492</td>\n",
              "    </tr>\n",
              "    <tr>\n",
              "      <th>Indiana</th>\n",
              "      <td>149</td>\n",
              "    </tr>\n",
              "    <tr>\n",
              "      <th>Iowa</th>\n",
              "      <td>30</td>\n",
              "    </tr>\n",
              "    <tr>\n",
              "      <th>Kansas</th>\n",
              "      <td>24</td>\n",
              "    </tr>\n",
              "    <tr>\n",
              "      <th>Kentucky</th>\n",
              "      <td>139</td>\n",
              "    </tr>\n",
              "    <tr>\n",
              "      <th>Louisiana</th>\n",
              "      <td>42</td>\n",
              "    </tr>\n",
              "    <tr>\n",
              "      <th>Maine</th>\n",
              "      <td>8</td>\n",
              "    </tr>\n",
              "    <tr>\n",
              "      <th>Maryland</th>\n",
              "      <td>105</td>\n",
              "    </tr>\n",
              "    <tr>\n",
              "      <th>Massachusetts</th>\n",
              "      <td>135</td>\n",
              "    </tr>\n",
              "    <tr>\n",
              "      <th>Michigan</th>\n",
              "      <td>255</td>\n",
              "    </tr>\n",
              "    <tr>\n",
              "      <th>Minnesota</th>\n",
              "      <td>89</td>\n",
              "    </tr>\n",
              "    <tr>\n",
              "      <th>Mississippi</th>\n",
              "      <td>53</td>\n",
              "    </tr>\n",
              "    <tr>\n",
              "      <th>Missouri</th>\n",
              "      <td>66</td>\n",
              "    </tr>\n",
              "    <tr>\n",
              "      <th>Montana</th>\n",
              "      <td>15</td>\n",
              "    </tr>\n",
              "    <tr>\n",
              "      <th>Nebraska</th>\n",
              "      <td>38</td>\n",
              "    </tr>\n",
              "    <tr>\n",
              "      <th>Nevada</th>\n",
              "      <td>39</td>\n",
              "    </tr>\n",
              "    <tr>\n",
              "      <th>New Hampshire</th>\n",
              "      <td>27</td>\n",
              "    </tr>\n",
              "    <tr>\n",
              "      <th>New Jersey</th>\n",
              "      <td>130</td>\n",
              "    </tr>\n",
              "    <tr>\n",
              "      <th>New Mexico</th>\n",
              "      <td>37</td>\n",
              "    </tr>\n",
              "    <tr>\n",
              "      <th>New York</th>\n",
              "      <td>1128</td>\n",
              "    </tr>\n",
              "    <tr>\n",
              "      <th>North Carolina</th>\n",
              "      <td>249</td>\n",
              "    </tr>\n",
              "    <tr>\n",
              "      <th>North Dakota</th>\n",
              "      <td>7</td>\n",
              "    </tr>\n",
              "    <tr>\n",
              "      <th>Ohio</th>\n",
              "      <td>468</td>\n",
              "    </tr>\n",
              "    <tr>\n",
              "      <th>Oklahoma</th>\n",
              "      <td>66</td>\n",
              "    </tr>\n",
              "    <tr>\n",
              "      <th>Oregon</th>\n",
              "      <td>124</td>\n",
              "    </tr>\n",
              "    <tr>\n",
              "      <th>Pennsylvania</th>\n",
              "      <td>587</td>\n",
              "    </tr>\n",
              "    <tr>\n",
              "      <th>Rhode Island</th>\n",
              "      <td>56</td>\n",
              "    </tr>\n",
              "    <tr>\n",
              "      <th>South Carolina</th>\n",
              "      <td>42</td>\n",
              "    </tr>\n",
              "    <tr>\n",
              "      <th>South Dakota</th>\n",
              "      <td>12</td>\n",
              "    </tr>\n",
              "    <tr>\n",
              "      <th>Tennessee</th>\n",
              "      <td>183</td>\n",
              "    </tr>\n",
              "    <tr>\n",
              "      <th>Texas</th>\n",
              "      <td>985</td>\n",
              "    </tr>\n",
              "    <tr>\n",
              "      <th>Utah</th>\n",
              "      <td>53</td>\n",
              "    </tr>\n",
              "    <tr>\n",
              "      <th>Vermont</th>\n",
              "      <td>11</td>\n",
              "    </tr>\n",
              "    <tr>\n",
              "      <th>Virginia</th>\n",
              "      <td>224</td>\n",
              "    </tr>\n",
              "    <tr>\n",
              "      <th>Washington</th>\n",
              "      <td>506</td>\n",
              "    </tr>\n",
              "    <tr>\n",
              "      <th>West Virginia</th>\n",
              "      <td>4</td>\n",
              "    </tr>\n",
              "    <tr>\n",
              "      <th>Wisconsin</th>\n",
              "      <td>110</td>\n",
              "    </tr>\n",
              "    <tr>\n",
              "      <th>Wyoming</th>\n",
              "      <td>1</td>\n",
              "    </tr>\n",
              "  </tbody>\n",
              "</table>\n",
              "</div>"
            ],
            "text/plain": [
              "                      Order ID\n",
              "State                         \n",
              "Alabama                     61\n",
              "Arizona                    224\n",
              "Arkansas                    60\n",
              "California                2001\n",
              "Colorado                   182\n",
              "Connecticut                 82\n",
              "Delaware                    96\n",
              "District of Columbia        10\n",
              "Florida                    383\n",
              "Georgia                    184\n",
              "Idaho                       21\n",
              "Illinois                   492\n",
              "Indiana                    149\n",
              "Iowa                        30\n",
              "Kansas                      24\n",
              "Kentucky                   139\n",
              "Louisiana                   42\n",
              "Maine                        8\n",
              "Maryland                   105\n",
              "Massachusetts              135\n",
              "Michigan                   255\n",
              "Minnesota                   89\n",
              "Mississippi                 53\n",
              "Missouri                    66\n",
              "Montana                     15\n",
              "Nebraska                    38\n",
              "Nevada                      39\n",
              "New Hampshire               27\n",
              "New Jersey                 130\n",
              "New Mexico                  37\n",
              "New York                  1128\n",
              "North Carolina             249\n",
              "North Dakota                 7\n",
              "Ohio                       468\n",
              "Oklahoma                    66\n",
              "Oregon                     124\n",
              "Pennsylvania               587\n",
              "Rhode Island                56\n",
              "South Carolina              42\n",
              "South Dakota                12\n",
              "Tennessee                  183\n",
              "Texas                      985\n",
              "Utah                        53\n",
              "Vermont                     11\n",
              "Virginia                   224\n",
              "Washington                 506\n",
              "West Virginia                4\n",
              "Wisconsin                  110\n",
              "Wyoming                      1"
            ]
          },
          "metadata": {},
          "execution_count": 16
        }
      ]
    },
    {
      "cell_type": "markdown",
      "metadata": {
        "id": "HivFuCDnnW1U"
      },
      "source": [
        "Temos 49 estados, o único que não aparece é o Alasca o que é compreensivo devido ao isolamento geográfico do estado em relação ao restante dos Estados Unidos."
      ]
    },
    {
      "cell_type": "code",
      "metadata": {
        "colab": {
          "base_uri": "https://localhost:8080/"
        },
        "id": "ZXyLTTutmVAe",
        "outputId": "50774525-0f98-4bfb-ed72-22e6577e3184"
      },
      "source": [
        "df['Region'].unique()"
      ],
      "execution_count": null,
      "outputs": [
        {
          "output_type": "execute_result",
          "data": {
            "text/plain": [
              "array(['South', 'West', 'Central', 'East'], dtype=object)"
            ]
          },
          "metadata": {},
          "execution_count": 17
        }
      ]
    },
    {
      "cell_type": "markdown",
      "metadata": {
        "id": "UxffK06xnbcE"
      },
      "source": [
        "Faltou a região North: Os estados estão sendo atribuidos a região errada ou é apenas a divisão de região usada pela empresa?\n",
        "\n",
        "Se tivesse mais tempo investigaria mais profundamente essa questão. Pode atrapalhar nas entregas."
      ]
    },
    {
      "cell_type": "code",
      "metadata": {
        "colab": {
          "base_uri": "https://localhost:8080/",
          "height": 206
        },
        "id": "aoI-l77Zn6DU",
        "outputId": "028712c9-c0b5-4ea2-a258-418605d4d15d"
      },
      "source": [
        "df.groupby(['Ship Mode'])['Order ID'].size().to_frame()"
      ],
      "execution_count": null,
      "outputs": [
        {
          "output_type": "execute_result",
          "data": {
            "text/html": [
              "<div>\n",
              "<style scoped>\n",
              "    .dataframe tbody tr th:only-of-type {\n",
              "        vertical-align: middle;\n",
              "    }\n",
              "\n",
              "    .dataframe tbody tr th {\n",
              "        vertical-align: top;\n",
              "    }\n",
              "\n",
              "    .dataframe thead th {\n",
              "        text-align: right;\n",
              "    }\n",
              "</style>\n",
              "<table border=\"1\" class=\"dataframe\">\n",
              "  <thead>\n",
              "    <tr style=\"text-align: right;\">\n",
              "      <th></th>\n",
              "      <th>Order ID</th>\n",
              "    </tr>\n",
              "    <tr>\n",
              "      <th>Ship Mode</th>\n",
              "      <th></th>\n",
              "    </tr>\n",
              "  </thead>\n",
              "  <tbody>\n",
              "    <tr>\n",
              "      <th>First Class</th>\n",
              "      <td>1538</td>\n",
              "    </tr>\n",
              "    <tr>\n",
              "      <th>Same Day</th>\n",
              "      <td>543</td>\n",
              "    </tr>\n",
              "    <tr>\n",
              "      <th>Second Class</th>\n",
              "      <td>1945</td>\n",
              "    </tr>\n",
              "    <tr>\n",
              "      <th>Standard Class</th>\n",
              "      <td>5967</td>\n",
              "    </tr>\n",
              "  </tbody>\n",
              "</table>\n",
              "</div>"
            ],
            "text/plain": [
              "                Order ID\n",
              "Ship Mode               \n",
              "First Class         1538\n",
              "Same Day             543\n",
              "Second Class        1945\n",
              "Standard Class      5967"
            ]
          },
          "metadata": {},
          "execution_count": 18
        }
      ]
    },
    {
      "cell_type": "code",
      "metadata": {
        "colab": {
          "base_uri": "https://localhost:8080/"
        },
        "id": "7lfsetyon-tw",
        "outputId": "d48daf30-5d53-4ab6-bf8a-d7306260c99d"
      },
      "source": [
        "df.groupby(['Customer Name'])['Customer ID'].nunique().nlargest(10)"
      ],
      "execution_count": null,
      "outputs": [
        {
          "output_type": "execute_result",
          "data": {
            "text/plain": [
              "Customer Name\n",
              "Aaron Bergman         1\n",
              "Aaron Hawkins         1\n",
              "Aaron Smayling        1\n",
              "Adam Bellavance       1\n",
              "Adam Hart             1\n",
              "Adam Shillingsburg    1\n",
              "Adrian Barton         1\n",
              "Adrian Hane           1\n",
              "Adrian Shami          1\n",
              "Aimee Bixby           1\n",
              "Name: Customer ID, dtype: int64"
            ]
          },
          "metadata": {},
          "execution_count": 19
        }
      ]
    },
    {
      "cell_type": "markdown",
      "metadata": {
        "id": "Sqe5GS-l4oM0"
      },
      "source": [
        "Ok! Só temos um ID para Customer Name\n",
        "\n",
        "Se tivesse mais tempo e uma base de informações sobre os clientes eu investigaria se temos consumidores com o mesmo nome que estão recebendo, erroneamente, IDs iguais.\n",
        "\n"
      ]
    },
    {
      "cell_type": "code",
      "metadata": {
        "colab": {
          "base_uri": "https://localhost:8080/",
          "height": 175
        },
        "id": "W5tZAdAI5LfK",
        "outputId": "e6b94e12-1056-430f-d63f-495b54a43b2b"
      },
      "source": [
        "df.groupby(['Segment'])['Customer Name'].size().to_frame()"
      ],
      "execution_count": null,
      "outputs": [
        {
          "output_type": "execute_result",
          "data": {
            "text/html": [
              "<div>\n",
              "<style scoped>\n",
              "    .dataframe tbody tr th:only-of-type {\n",
              "        vertical-align: middle;\n",
              "    }\n",
              "\n",
              "    .dataframe tbody tr th {\n",
              "        vertical-align: top;\n",
              "    }\n",
              "\n",
              "    .dataframe thead th {\n",
              "        text-align: right;\n",
              "    }\n",
              "</style>\n",
              "<table border=\"1\" class=\"dataframe\">\n",
              "  <thead>\n",
              "    <tr style=\"text-align: right;\">\n",
              "      <th></th>\n",
              "      <th>Customer Name</th>\n",
              "    </tr>\n",
              "    <tr>\n",
              "      <th>Segment</th>\n",
              "      <th></th>\n",
              "    </tr>\n",
              "  </thead>\n",
              "  <tbody>\n",
              "    <tr>\n",
              "      <th>Consumer</th>\n",
              "      <td>5191</td>\n",
              "    </tr>\n",
              "    <tr>\n",
              "      <th>Corporate</th>\n",
              "      <td>3020</td>\n",
              "    </tr>\n",
              "    <tr>\n",
              "      <th>Home Office</th>\n",
              "      <td>1782</td>\n",
              "    </tr>\n",
              "  </tbody>\n",
              "</table>\n",
              "</div>"
            ],
            "text/plain": [
              "             Customer Name\n",
              "Segment                   \n",
              "Consumer              5191\n",
              "Corporate             3020\n",
              "Home Office           1782"
            ]
          },
          "metadata": {},
          "execution_count": 20
        }
      ]
    },
    {
      "cell_type": "code",
      "metadata": {
        "colab": {
          "base_uri": "https://localhost:8080/"
        },
        "id": "mvVlWXwSqIRF",
        "outputId": "4b663bbe-d50e-4e37-cdfb-426779a52862"
      },
      "source": [
        "df.groupby(['Customer Name', 'Segment'])['State'].nunique().nlargest(20)"
      ],
      "execution_count": null,
      "outputs": [
        {
          "output_type": "execute_result",
          "data": {
            "text/plain": [
              "Customer Name         Segment    \n",
              "Dean percer           Home Office    11\n",
              "Chris Cortes          Consumer       10\n",
              "Christine Sundaresam  Consumer       10\n",
              "Emily Phan            Consumer       10\n",
              "Noel Staavos          Corporate      10\n",
              "Paul Prost            Home Office    10\n",
              "Resi Pölking          Consumer       10\n",
              "Rick Bensley          Home Office    10\n",
              "Sanjit Jacobs         Home Office    10\n",
              "Zuschuss Carroll      Consumer       10\n",
              "Adam Hart             Corporate       9\n",
              "Arthur Gainer         Consumer        9\n",
              "Brian Moss            Corporate       9\n",
              "Bryan Mills           Consumer        9\n",
              "Chloris Kastensmidt   Consumer        9\n",
              "Chris Selesnick       Corporate       9\n",
              "Christina Anderson    Consumer        9\n",
              "Clay Ludtke           Consumer        9\n",
              "Clytie Kelty          Consumer        9\n",
              "Damala Kotsonis       Corporate       9\n",
              "Name: State, dtype: int64"
            ]
          },
          "metadata": {},
          "execution_count": 21
        }
      ]
    },
    {
      "cell_type": "markdown",
      "metadata": {
        "id": "nm_jZHv-6Ha_"
      },
      "source": [
        "Existem pessoas do segmento Consumer que fazem compras para até 10 estados distintos, será que as categorias estão corretas? Me parece que essas compras podem ser, na verdade, Corporate.\n",
        "\n",
        "O que é o segmento Home Office? Empresas remotas? Qual a diferença para o Corporate?"
      ]
    },
    {
      "cell_type": "markdown",
      "metadata": {
        "id": "ZxdkqDmM6xHN"
      },
      "source": [
        "**Variável Profit**"
      ]
    },
    {
      "cell_type": "code",
      "metadata": {
        "colab": {
          "base_uri": "https://localhost:8080/"
        },
        "id": "TRLuD4GO6bck",
        "outputId": "00f447e7-4225-4631-b426-0ec62bcb0a39"
      },
      "source": [
        "max(df['Profit']), df['Profit'].mean(), min(df['Profit'])"
      ],
      "execution_count": null,
      "outputs": [
        {
          "output_type": "execute_result",
          "data": {
            "text/plain": [
              "(8399.975999999999, 28.660970729510783, -6599.978000000001)"
            ]
          },
          "metadata": {},
          "execution_count": 22
        }
      ]
    },
    {
      "cell_type": "code",
      "metadata": {
        "colab": {
          "base_uri": "https://localhost:8080/"
        },
        "id": "vSJzQqnfP5lm",
        "outputId": "5b3b7f63-1419-445c-88bf-f34f77fb5e4c"
      },
      "source": [
        "df['Order ID'][df['Profit']<0].count()"
      ],
      "execution_count": null,
      "outputs": [
        {
          "output_type": "execute_result",
          "data": {
            "text/plain": [
              "1870"
            ]
          },
          "metadata": {},
          "execution_count": 23
        }
      ]
    },
    {
      "cell_type": "code",
      "metadata": {
        "colab": {
          "base_uri": "https://localhost:8080/",
          "height": 349
        },
        "id": "9vqlFC-n69vH",
        "outputId": "cdb38fa4-2450-4fde-fee7-19f9e158b1c0"
      },
      "source": [
        "df.groupby(['Segment'])['Profit'].mean().to_frame().plot.bar()"
      ],
      "execution_count": null,
      "outputs": [
        {
          "output_type": "execute_result",
          "data": {
            "text/plain": [
              "<matplotlib.axes._subplots.AxesSubplot at 0x7f63f28b5190>"
            ]
          },
          "metadata": {},
          "execution_count": 24
        },
        {
          "output_type": "display_data",
          "data": {
            "image/png": "[encoded data removed]",
            "text/plain": [
              "<Figure size 432x288 with 1 Axes>"
            ]
          },
          "metadata": {
            "needs_background": "light"
          }
        }
      ]
    },
    {
      "cell_type": "code",
      "metadata": {
        "colab": {
          "base_uri": "https://localhost:8080/",
          "height": 300
        },
        "id": "TUHoQrUs_4p9",
        "outputId": "54e07b11-f6c4-44ac-d299-0d8c19a38504"
      },
      "source": [
        "sns.histplot(df['Profit'], bins= 30)"
      ],
      "execution_count": null,
      "outputs": [
        {
          "output_type": "execute_result",
          "data": {
            "text/plain": [
              "<matplotlib.axes._subplots.AxesSubplot at 0x7f63f2d0a690>"
            ]
          },
          "metadata": {},
          "execution_count": 25
        },
        {
          "output_type": "display_data",
          "data": {
            "image/png": "[encoded data removed]",
            "text/plain": [
              "<Figure size 432x288 with 1 Axes>"
            ]
          },
          "metadata": {
            "needs_background": "light"
          }
        }
      ]
    },
    {
      "cell_type": "markdown",
      "metadata": {
        "id": "A_PMeCviP1tn"
      },
      "source": [
        "Me preocupa termos 1870 pedidos com profit negativos, investigaria melhor essa questão."
      ]
    },
    {
      "cell_type": "markdown",
      "metadata": {
        "id": "zJDdb9oyPmDs"
      },
      "source": [
        "**Verificar evolução dos pedidos ao longo do tempo**"
      ]
    },
    {
      "cell_type": "code",
      "metadata": {
        "colab": {
          "base_uri": "https://localhost:8080/",
          "height": 460
        },
        "id": "b9pRaHb5QjyC",
        "outputId": "6d85bfbd-63f0-4a17-9966-c2cdeaa950d8"
      },
      "source": [
        "plt.figure(figsize=(20,6))\n",
        "pedidos = df.groupby(df['Order Date'].dt.date)['Order ID'].nunique()\n",
        "sns.lineplot(pedidos.index, pedidos.values)"
      ],
      "execution_count": null,
      "outputs": [
        {
          "output_type": "stream",
          "name": "stderr",
          "text": [
            "/usr/local/lib/python3.7/dist-packages/seaborn/_decorators.py:43: FutureWarning: Pass the following variables as keyword args: x, y. From version 0.12, the only valid positional argument will be `data`, and passing other arguments without an explicit keyword will result in an error or misinterpretation.\n",
            "  FutureWarning\n"
          ]
        },
        {
          "output_type": "execute_result",
          "data": {
            "text/plain": [
              "<matplotlib.axes._subplots.AxesSubplot at 0x7f63f2ec5dd0>"
            ]
          },
          "metadata": {},
          "execution_count": 26
        },
        {
          "output_type": "display_data",
          "data": {
            "image/png": "[encoded data removed]",
            "text/plain": [
              "<Figure size 1440x432 with 1 Axes>"
            ]
          },
          "metadata": {
            "needs_background": "light"
          }
        }
      ]
    },
    {
      "cell_type": "markdown",
      "metadata": {
        "id": "A3DqJjNGWDuj"
      },
      "source": [
        "O número de pedidos vem crescendo consistentemente, com uma anual sazonalidade similar (número de tende a subir no final do ano provavelmente divido ao dia das crianças, black friday e natal)"
      ]
    },
    {
      "cell_type": "code",
      "metadata": {
        "colab": {
          "base_uri": "https://localhost:8080/",
          "height": 460
        },
        "id": "YZ1esz4SRJuk",
        "outputId": "e13d04c2-9918-4b4f-b038-aa2ed50b1be0"
      },
      "source": [
        "plt.figure(figsize=(12,6))\n",
        "profit = df.groupby(df['Order Date'].dt.date)['Profit'].mean()\n",
        "sns.lineplot(profit.index, profit.values)\n",
        "plt.hlines(profit.values.mean(), xmax=df['Order Date'].max(), xmin=df['Order Date'].min(), colors='crimson')\n",
        "# definir área de 95% dos dados\n",
        "plt.hlines(profit.quantile(q=0.975), xmax=df['Order Date'].max(), xmin=df['Order Date'].min(), colors='crimson')\n",
        "plt.hlines(profit.quantile(q=0.025), xmax=df['Order Date'].max(), xmin=df['Order Date'].min(), colors='crimson')"
      ],
      "execution_count": null,
      "outputs": [
        {
          "output_type": "stream",
          "name": "stderr",
          "text": [
            "/usr/local/lib/python3.7/dist-packages/seaborn/_decorators.py:43: FutureWarning: Pass the following variables as keyword args: x, y. From version 0.12, the only valid positional argument will be `data`, and passing other arguments without an explicit keyword will result in an error or misinterpretation.\n",
            "  FutureWarning\n"
          ]
        },
        {
          "output_type": "execute_result",
          "data": {
            "text/plain": [
              "<matplotlib.collections.LineCollection at 0x7ffabb6f1c50>"
            ]
          },
          "metadata": {},
          "execution_count": 89
        },
        {
          "output_type": "display_data",
          "data": {
            "image/png": "[encoded data removed]",
            "text/plain": [
              "<Figure size 864x432 with 1 Axes>"
            ]
          },
          "metadata": {
            "needs_background": "light"
          }
        }
      ]
    },
    {
      "cell_type": "markdown",
      "metadata": {
        "id": "NcBxSVPqSRri"
      },
      "source": [
        "O que aconteceu no início de 2015 que desencadeou lucros tão baixos?\n",
        "\n",
        "Algumas hipóteses podem ser levantadas:\n",
        "- Erro de registro: seguiria com a remoção desses dados e, se possível, a correção para os valores corretos.\n",
        "- Evento externo ou interno que gerou queda nos preços ou nos lucros"
      ]
    }
  ]
}